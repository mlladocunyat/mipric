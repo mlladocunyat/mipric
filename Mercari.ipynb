{
 "cells": [
  {
   "cell_type": "markdown",
   "metadata": {},
   "source": [
    "#Intentamos analizar de forma previa los datos"
   ]
  },
  {
   "cell_type": "code",
   "execution_count": 20,
   "metadata": {},
   "outputs": [],
   "source": [
    "import pandas as pd\n",
    "import matplotlib as plot\n",
    "import nltk "
   ]
  },
  {
   "cell_type": "code",
   "execution_count": 21,
   "metadata": {},
   "outputs": [
    {
     "name": "stdout",
     "output_type": "stream",
     "text": [
      "showing info https://raw.githubusercontent.com/nltk/nltk_data/gh-pages/index.xml\n"
     ]
    },
    {
     "data": {
      "text/plain": [
       "True"
      ]
     },
     "execution_count": 21,
     "metadata": {},
     "output_type": "execute_result"
    }
   ],
   "source": [
    "#nltk.download()"
   ]
  },
  {
   "cell_type": "code",
   "execution_count": 23,
   "metadata": {},
   "outputs": [],
   "source": [
    "train=pd.read_table('../inputs/train.tsv')\n",
    "train['len']=train['item_description'].str.len()\n",
    "train['cant']=1"
   ]
  },
  {
   "cell_type": "code",
   "execution_count": null,
   "metadata": {},
   "outputs": [],
   "source": [
    "samp=train.sample(frac=.1)\n",
    "r=''\n",
    "for idx,data in samp.iterrows():\n",
    "    r=r+data['item_description']"
   ]
  },
  {
   "cell_type": "code",
   "execution_count": 25,
   "metadata": {},
   "outputs": [],
   "source": [
    "words=nltk.sent_tokenize(r)"
   ]
  },
  {
   "cell_type": "code",
   "execution_count": 26,
   "metadata": {},
   "outputs": [],
   "source": [
    "fdist1 = nltk.FreqDist(words)"
   ]
  },
  {
   "cell_type": "code",
   "execution_count": 27,
   "metadata": {},
   "outputs": [
    {
     "data": {
      "text/plain": [
       "[('Never worn.', 19),\n",
       " ('Great condition.', 11),\n",
       " ('No flaws.', 11),\n",
       " ('Price is firm.', 11),\n",
       " ('Good condition.', 8),\n",
       " ('.', 8),\n",
       " ('Size large.', 8),\n",
       " ('Never used.', 8),\n",
       " ('Free shipping.', 7),\n",
       " ('No free shipping.', 7),\n",
       " ('Free shipping!', 7),\n",
       " ('Brand new.', 7),\n",
       " ('Size small.', 7),\n",
       " ('Like new.', 6),\n",
       " ('Smoke free home.', 6),\n",
       " ('Size medium.', 6),\n",
       " ('New with tags.', 6),\n",
       " ('Only worn once.', 6),\n",
       " ('Gently used.', 5),\n",
       " ('In good condition.', 5),\n",
       " ('Excellent condition.', 5),\n",
       " ('No rips or stains.', 5),\n",
       " ('Perfect condition.', 5),\n",
       " ('Worn once.', 5),\n",
       " ('100% authentic.', 5),\n",
       " ('ITLL BE RANDOMLY SELECTED!', 5),\n",
       " ('Brand new with tag.', 4),\n",
       " ('Never opened.', 4),\n",
       " ('2.', 4),\n",
       " ('3.', 4),\n",
       " ('Black.', 4),\n",
       " ('No stains.', 4),\n",
       " ('Never worn or tried on.', 3),\n",
       " ('Never worn!', 3),\n",
       " ('Retails for [rm].', 3),\n",
       " ('No holds.', 3),\n",
       " ('o High Quality , Easy Snap-On attachment with direct access to all buttons .',\n",
       "  3),\n",
       " ('**We have it available for all the phone size bellow , you can buy this listing and send Us a message for you phone size after order .',\n",
       "  3),\n",
       " ('4.', 3),\n",
       " ('Never been worn.', 3),\n",
       " ('No box.', 3),\n",
       " ('Never been used.', 3),\n",
       " ('Only worn a couple times.', 3),\n",
       " ('Size 10.', 3),\n",
       " ('If you want to bundle talk to me first before purchasing so I can give you the bundle deal.',\n",
       "  3),\n",
       " ('~~~☆● PLEASE READ!!', 3),\n",
       " ('》FREE GIFT & discount to those who bundle 3 items or more.', 3),\n",
       " (\"》I •REPOST• everyday & sometimes I don't post/mention ●SIZES● so ●PLEASE ASK● if not sure.\",\n",
       "  3),\n",
       " (\"Don't blame me about sizes when you receive orders.\", 3),\n",
       " ('》I ship on MONDAYS, WEDNESDAYS, FRIDAYS/SATURDAYS.', 3)]"
      ]
     },
     "execution_count": 27,
     "metadata": {},
     "output_type": "execute_result"
    }
   ],
   "source": [
    "fdist1.most_common(50)"
   ]
  },
  {
   "cell_type": "code",
   "execution_count": null,
   "metadata": {},
   "outputs": [],
   "source": []
  }
 ],
 "metadata": {
  "kernelspec": {
   "display_name": "Python 3",
   "language": "python",
   "name": "python3"
  },
  "language_info": {
   "codemirror_mode": {
    "name": "ipython",
    "version": 3
   },
   "file_extension": ".py",
   "mimetype": "text/x-python",
   "name": "python",
   "nbconvert_exporter": "python",
   "pygments_lexer": "ipython3",
   "version": "3.6.2"
  }
 },
 "nbformat": 4,
 "nbformat_minor": 2
}
